{
 "cells": [
  {
   "cell_type": "code",
   "execution_count": 1,
   "id": "b2bd82d7",
   "metadata": {
    "ExecuteTime": {
     "end_time": "2025-05-18T19:53:59.394262Z",
     "start_time": "2025-05-18T19:53:59.300122Z"
    },
    "execution": {
     "iopub.execute_input": "2025-05-18T20:00:51.062304Z",
     "iopub.status.busy": "2025-05-18T20:00:51.061418Z",
     "iopub.status.idle": "2025-05-18T20:00:51.231376Z",
     "shell.execute_reply": "2025-05-18T20:00:51.230040Z",
     "shell.execute_reply.started": "2025-05-18T20:00:51.062247Z"
    },
    "jupyter": {
     "is_executing": true
    }
   },
   "outputs": [
    {
     "name": "stdout",
     "output_type": "stream",
     "text": [
      "Python 3.12.10\n"
     ]
    }
   ],
   "source": [
    "!python -V"
   ]
  },
  {
   "cell_type": "code",
   "execution_count": 2,
   "id": "41062d8a",
   "metadata": {
    "execution": {
     "iopub.execute_input": "2025-05-18T20:00:52.036974Z",
     "iopub.status.busy": "2025-05-18T20:00:52.035348Z",
     "iopub.status.idle": "2025-05-18T20:00:52.478361Z",
     "shell.execute_reply": "2025-05-18T20:00:52.478091Z",
     "shell.execute_reply.started": "2025-05-18T20:00:52.036543Z"
    }
   },
   "outputs": [],
   "source": [
    "import pandas as pd"
   ]
  },
  {
   "cell_type": "code",
   "execution_count": 11,
   "id": "c984c564",
   "metadata": {
    "execution": {
     "iopub.execute_input": "2025-05-18T20:06:31.065419Z",
     "iopub.status.busy": "2025-05-18T20:06:31.064238Z",
     "iopub.status.idle": "2025-05-18T20:06:31.073702Z",
     "shell.execute_reply": "2025-05-18T20:06:31.072543Z",
     "shell.execute_reply.started": "2025-05-18T20:06:31.065388Z"
    }
   },
   "outputs": [],
   "source": [
    "import pickle\n",
    "from pathlib import Path\n",
    "import subprocess"
   ]
  },
  {
   "cell_type": "code",
   "execution_count": 4,
   "id": "4add538c",
   "metadata": {
    "execution": {
     "iopub.execute_input": "2025-05-18T20:00:53.636146Z",
     "iopub.status.busy": "2025-05-18T20:00:53.635610Z",
     "iopub.status.idle": "2025-05-18T20:00:54.556452Z",
     "shell.execute_reply": "2025-05-18T20:00:54.556193Z",
     "shell.execute_reply.started": "2025-05-18T20:00:53.636122Z"
    }
   },
   "outputs": [],
   "source": [
    "import seaborn as sns\n",
    "import matplotlib.pyplot as plt"
   ]
  },
  {
   "cell_type": "code",
   "execution_count": 5,
   "id": "8b135c2b",
   "metadata": {
    "execution": {
     "iopub.execute_input": "2025-05-18T20:00:54.562513Z",
     "iopub.status.busy": "2025-05-18T20:00:54.562238Z",
     "iopub.status.idle": "2025-05-18T20:00:59.298164Z",
     "shell.execute_reply": "2025-05-18T20:00:59.297844Z",
     "shell.execute_reply.started": "2025-05-18T20:00:54.562503Z"
    }
   },
   "outputs": [],
   "source": [
    "from sklearn.feature_extraction import DictVectorizer\n",
    "from sklearn.linear_model import LinearRegression\n",
    "from sklearn.linear_model import Lasso\n",
    "from sklearn.linear_model import Ridge\n",
    "\n",
    "from sklearn.metrics import root_mean_squared_error"
   ]
  },
  {
   "cell_type": "code",
   "execution_count": 14,
   "id": "814ed6e9-9589-4ea1-8883-3094ee62d3b5",
   "metadata": {
    "execution": {
     "iopub.execute_input": "2025-05-18T20:10:44.285929Z",
     "iopub.status.busy": "2025-05-18T20:10:44.285296Z",
     "iopub.status.idle": "2025-05-18T20:10:44.292028Z",
     "shell.execute_reply": "2025-05-18T20:10:44.290957Z",
     "shell.execute_reply.started": "2025-05-18T20:10:44.285899Z"
    }
   },
   "outputs": [],
   "source": [
    "data_link_pattern = \"https://d37ci6vzurychx.cloudfront.net/trip-data/{}_tripdata_{}-{}.parquet\"\n",
    "data_dir = Path(\"./data\")\n",
    "data_dir.mkdir(parents=True, exist_ok=True)"
   ]
  },
  {
   "cell_type": "code",
   "execution_count": 20,
   "id": "8fe95669-1d21-4969-bcc3-171ccbb8c612",
   "metadata": {
    "execution": {
     "iopub.execute_input": "2025-05-18T20:12:39.500306Z",
     "iopub.status.busy": "2025-05-18T20:12:39.499916Z",
     "iopub.status.idle": "2025-05-18T20:12:41.504742Z",
     "shell.execute_reply": "2025-05-18T20:12:41.502506Z",
     "shell.execute_reply.started": "2025-05-18T20:12:39.500275Z"
    }
   },
   "outputs": [
    {
     "name": "stdout",
     "output_type": "stream",
     "text": [
      "data downloaded successfully\n"
     ]
    }
   ],
   "source": [
    "combinations = [\n",
    "    (\"green\", \"2023\", \"01\"),\n",
    "    (\"green\", \"2023\", \"02\"),\n",
    "    (\"yellow\", \"2023\", \"01\"),\n",
    "    (\"yellow\", \"2023\", \"02\"),\n",
    "]\n",
    "for combination in combinations:\n",
    "    subprocess.run(\n",
    "        [\n",
    "            \"wget\",\n",
    "            \"-q\",\n",
    "            \"-P\",\n",
    "            \"data\",\n",
    "            data_link_pattern.format(*combination),\n",
    "        ],\n",
    "        check=True\n",
    "    )\n",
    "print(\"data downloaded successfully\")"
   ]
  },
  {
   "cell_type": "code",
   "execution_count": 21,
   "id": "8e013caf",
   "metadata": {
    "execution": {
     "iopub.execute_input": "2025-05-18T20:12:53.441655Z",
     "iopub.status.busy": "2025-05-18T20:12:53.441266Z",
     "iopub.status.idle": "2025-05-18T20:12:55.797225Z",
     "shell.execute_reply": "2025-05-18T20:12:55.796903Z",
     "shell.execute_reply.started": "2025-05-18T20:12:53.441624Z"
    }
   },
   "outputs": [],
   "source": [
    "df = pd.read_parquet('./data/green_tripdata_2023-01.parquet')\n",
    "\n",
    "df['duration'] = df.lpep_dropoff_datetime - df.lpep_pickup_datetime\n",
    "df.duration = df.duration.apply(lambda td: td.total_seconds() / 60)\n",
    "\n",
    "df = df[(df.duration >= 1) & (df.duration <= 60)]\n",
    "\n",
    "categorical = ['PULocationID', 'DOLocationID']\n",
    "numerical = ['trip_distance']\n",
    "\n",
    "df[categorical] = df[categorical].astype(str)"
   ]
  },
  {
   "cell_type": "code",
   "execution_count": 22,
   "id": "116ff0cc",
   "metadata": {
    "execution": {
     "iopub.execute_input": "2025-05-18T20:12:57.755301Z",
     "iopub.status.busy": "2025-05-18T20:12:57.754329Z",
     "iopub.status.idle": "2025-05-18T20:12:57.943781Z",
     "shell.execute_reply": "2025-05-18T20:12:57.943502Z",
     "shell.execute_reply.started": "2025-05-18T20:12:57.755263Z"
    }
   },
   "outputs": [
    {
     "data": {
      "text/plain": [
       "7.060351517845719"
      ]
     },
     "execution_count": 22,
     "metadata": {},
     "output_type": "execute_result"
    }
   ],
   "source": [
    "train_dicts = df[categorical + numerical].to_dict(orient='records')\n",
    "\n",
    "dv = DictVectorizer()\n",
    "X_train = dv.fit_transform(train_dicts)\n",
    "\n",
    "target = 'duration'\n",
    "y_train = df[target].values\n",
    "\n",
    "lr = LinearRegression()\n",
    "lr.fit(X_train, y_train)\n",
    "\n",
    "y_pred = lr.predict(X_train)\n",
    "\n",
    "root_mean_squared_error(y_train, y_pred)"
   ]
  },
  {
   "cell_type": "code",
   "execution_count": 23,
   "id": "b134c97b",
   "metadata": {
    "execution": {
     "iopub.execute_input": "2025-05-18T20:12:58.743662Z",
     "iopub.status.busy": "2025-05-18T20:12:58.742785Z",
     "iopub.status.idle": "2025-05-18T20:12:59.321895Z",
     "shell.execute_reply": "2025-05-18T20:12:59.321629Z",
     "shell.execute_reply.started": "2025-05-18T20:12:58.743610Z"
    }
   },
   "outputs": [
    {
     "name": "stderr",
     "output_type": "stream",
     "text": [
      "/var/folders/y5/ytfb0f7x7zz956zg2ck5c5s00000gn/T/ipykernel_52312/1672306066.py:1: UserWarning: \n",
      "\n",
      "`distplot` is a deprecated function and will be removed in seaborn v0.14.0.\n",
      "\n",
      "Please adapt your code to use either `displot` (a figure-level function with\n",
      "similar flexibility) or `histplot` (an axes-level function for histograms).\n",
      "\n",
      "For a guide to updating your code to use the new functions, please see\n",
      "https://gist.github.com/mwaskom/de44147ed2974457ad6372750bbe5751\n",
      "\n",
      "  sns.distplot(y_pred, label='prediction')\n",
      "/var/folders/y5/ytfb0f7x7zz956zg2ck5c5s00000gn/T/ipykernel_52312/1672306066.py:2: UserWarning: \n",
      "\n",
      "`distplot` is a deprecated function and will be removed in seaborn v0.14.0.\n",
      "\n",
      "Please adapt your code to use either `displot` (a figure-level function with\n",
      "similar flexibility) or `histplot` (an axes-level function for histograms).\n",
      "\n",
      "For a guide to updating your code to use the new functions, please see\n",
      "https://gist.github.com/mwaskom/de44147ed2974457ad6372750bbe5751\n",
      "\n",
      "  sns.distplot(y_train, label='actual')\n"
     ]
    },
    {
     "data": {
      "text/plain": [
       "<matplotlib.legend.Legend at 0x172d995b0>"
      ]
     },
     "execution_count": 23,
     "metadata": {},
     "output_type": "execute_result"
    },
    {
     "data": {
      "image/png": "[encoded data removed]",
      "text/plain": [
       "<Figure size 640x480 with 1 Axes>"
      ]
     },
     "metadata": {},
     "output_type": "display_data"
    }
   ],
   "source": [
    "sns.distplot(y_pred, label='prediction')\n",
    "sns.distplot(y_train, label='actual')\n",
    "\n",
    "plt.legend()"
   ]
  },
  {
   "cell_type": "code",
   "execution_count": 24,
   "id": "f9e6479e",
   "metadata": {
    "execution": {
     "iopub.execute_input": "2025-05-18T20:13:02.025388Z",
     "iopub.status.busy": "2025-05-18T20:13:02.024609Z",
     "iopub.status.idle": "2025-05-18T20:13:02.029615Z",
     "shell.execute_reply": "2025-05-18T20:13:02.029079Z",
     "shell.execute_reply.started": "2025-05-18T20:13:02.025357Z"
    }
   },
   "outputs": [],
   "source": [
    "def read_dataframe(filename):\n",
    "    if filename.endswith('.csv'):\n",
    "        df = pd.read_csv(filename)\n",
    "\n",
    "        df.lpep_dropoff_datetime = pd.to_datetime(df.lpep_dropoff_datetime)\n",
    "        df.lpep_pickup_datetime = pd.to_datetime(df.lpep_pickup_datetime)\n",
    "    elif filename.endswith('.parquet'):\n",
    "        df = pd.read_parquet(filename)\n",
    "\n",
    "    df['duration'] = df.lpep_dropoff_datetime - df.lpep_pickup_datetime\n",
    "    df.duration = df.duration.apply(lambda td: td.total_seconds() / 60)\n",
    "\n",
    "    df = df[(df.duration >= 1) & (df.duration <= 60)]\n",
    "\n",
    "    categorical = ['PULocationID', 'DOLocationID']\n",
    "    df[categorical] = df[categorical].astype(str)\n",
    "    \n",
    "    return df"
   ]
  },
  {
   "cell_type": "code",
   "execution_count": 28,
   "id": "8029eba0",
   "metadata": {
    "execution": {
     "iopub.execute_input": "2025-05-18T20:13:10.964502Z",
     "iopub.status.busy": "2025-05-18T20:13:10.963612Z",
     "iopub.status.idle": "2025-05-18T20:13:11.227819Z",
     "shell.execute_reply": "2025-05-18T20:13:11.227545Z",
     "shell.execute_reply.started": "2025-05-18T20:13:10.964474Z"
    }
   },
   "outputs": [],
   "source": [
    "df_train = read_dataframe('./data/green_tripdata_2023-01.parquet')\n",
    "df_val = read_dataframe('./data/green_tripdata_2023-02.parquet')"
   ]
  },
  {
   "cell_type": "code",
   "execution_count": 29,
   "id": "f6f2f0eb",
   "metadata": {
    "execution": {
     "iopub.execute_input": "2025-05-18T20:13:11.475813Z",
     "iopub.status.busy": "2025-05-18T20:13:11.475224Z",
     "iopub.status.idle": "2025-05-18T20:13:11.492304Z",
     "shell.execute_reply": "2025-05-18T20:13:11.491043Z",
     "shell.execute_reply.started": "2025-05-18T20:13:11.475769Z"
    }
   },
   "outputs": [
    {
     "data": {
      "text/plain": [
       "(65946, 62574)"
      ]
     },
     "execution_count": 29,
     "metadata": {},
     "output_type": "execute_result"
    }
   ],
   "source": [
    "len(df_train), len(df_val)"
   ]
  },
  {
   "cell_type": "code",
   "execution_count": 30,
   "id": "951d51ef",
   "metadata": {
    "execution": {
     "iopub.execute_input": "2025-05-18T20:13:12.438566Z",
     "iopub.status.busy": "2025-05-18T20:13:12.438003Z",
     "iopub.status.idle": "2025-05-18T20:13:12.467341Z",
     "shell.execute_reply": "2025-05-18T20:13:12.466922Z",
     "shell.execute_reply.started": "2025-05-18T20:13:12.438544Z"
    }
   },
   "outputs": [],
   "source": [
    "df_train['PU_DO'] = df_train['PULocationID'] + '_' + df_train['DOLocationID']\n",
    "df_val['PU_DO'] = df_val['PULocationID'] + '_' + df_val['DOLocationID']"
   ]
  },
  {
   "cell_type": "code",
   "execution_count": 31,
   "id": "c5cbfc25",
   "metadata": {
    "execution": {
     "iopub.execute_input": "2025-05-18T20:13:12.995186Z",
     "iopub.status.busy": "2025-05-18T20:13:12.994562Z",
     "iopub.status.idle": "2025-05-18T20:13:13.188269Z",
     "shell.execute_reply": "2025-05-18T20:13:13.187997Z",
     "shell.execute_reply.started": "2025-05-18T20:13:12.995157Z"
    }
   },
   "outputs": [],
   "source": [
    "categorical = ['PU_DO'] #'PULocationID', 'DOLocationID']\n",
    "numerical = ['trip_distance']\n",
    "\n",
    "dv = DictVectorizer()\n",
    "\n",
    "train_dicts = df_train[categorical + numerical].to_dict(orient='records')\n",
    "X_train = dv.fit_transform(train_dicts)\n",
    "\n",
    "val_dicts = df_val[categorical + numerical].to_dict(orient='records')\n",
    "X_val = dv.transform(val_dicts)"
   ]
  },
  {
   "cell_type": "code",
   "execution_count": 32,
   "id": "1e9fb68b",
   "metadata": {
    "execution": {
     "iopub.execute_input": "2025-05-18T20:13:13.643950Z",
     "iopub.status.busy": "2025-05-18T20:13:13.643582Z",
     "iopub.status.idle": "2025-05-18T20:13:13.648072Z",
     "shell.execute_reply": "2025-05-18T20:13:13.647169Z",
     "shell.execute_reply.started": "2025-05-18T20:13:13.643930Z"
    }
   },
   "outputs": [],
   "source": [
    "target = 'duration'\n",
    "y_train = df_train[target].values\n",
    "y_val = df_val[target].values"
   ]
  },
  {
   "cell_type": "code",
   "execution_count": 33,
   "id": "429e2394",
   "metadata": {
    "execution": {
     "iopub.execute_input": "2025-05-18T20:13:14.073447Z",
     "iopub.status.busy": "2025-05-18T20:13:14.072873Z",
     "iopub.status.idle": "2025-05-18T20:13:14.129780Z",
     "shell.execute_reply": "2025-05-18T20:13:14.129504Z",
     "shell.execute_reply.started": "2025-05-18T20:13:14.073419Z"
    }
   },
   "outputs": [
    {
     "data": {
      "text/plain": [
       "6.037050287963084"
      ]
     },
     "execution_count": 33,
     "metadata": {},
     "output_type": "execute_result"
    }
   ],
   "source": [
    "lr = LinearRegression()\n",
    "lr.fit(X_train, y_train)\n",
    "\n",
    "y_pred = lr.predict(X_val)\n",
    "\n",
    "root_mean_squared_error(y_val, y_pred)"
   ]
  },
  {
   "cell_type": "code",
   "execution_count": 37,
   "id": "22bf6f8b",
   "metadata": {
    "execution": {
     "iopub.execute_input": "2025-05-18T20:13:47.443540Z",
     "iopub.status.busy": "2025-05-18T20:13:47.443167Z",
     "iopub.status.idle": "2025-05-18T20:13:47.469837Z",
     "shell.execute_reply": "2025-05-18T20:13:47.468641Z",
     "shell.execute_reply.started": "2025-05-18T20:13:47.443517Z"
    }
   },
   "outputs": [],
   "source": [
    "model_dir = Path(\"models\")\n",
    "model_dir.mkdir(exist_ok=True)\n",
    "with open('models/lin_reg.bin', 'wb') as f_out:\n",
    "    pickle.dump((dv, lr), f_out)"
   ]
  },
  {
   "cell_type": "code",
   "execution_count": 38,
   "id": "a4999b94",
   "metadata": {
    "execution": {
     "iopub.execute_input": "2025-05-18T20:13:48.392400Z",
     "iopub.status.busy": "2025-05-18T20:13:48.392064Z",
     "iopub.status.idle": "2025-05-18T20:13:51.318393Z",
     "shell.execute_reply": "2025-05-18T20:13:51.318121Z",
     "shell.execute_reply.started": "2025-05-18T20:13:48.392379Z"
    }
   },
   "outputs": [
    {
     "data": {
      "text/plain": [
       "8.231436941224935"
      ]
     },
     "execution_count": 38,
     "metadata": {},
     "output_type": "execute_result"
    }
   ],
   "source": [
    "lr = Lasso(0.01)\n",
    "lr.fit(X_train, y_train)\n",
    "\n",
    "y_pred = lr.predict(X_val)\n",
    "\n",
    "root_mean_squared_error(y_val, y_pred)"
   ]
  },
  {
   "cell_type": "code",
   "execution_count": null,
   "id": "47b0eb9b",
   "metadata": {},
   "outputs": [],
   "source": []
  },
  {
   "cell_type": "code",
   "execution_count": null,
   "id": "ea6c77e3-5450-48ff-b0a6-297928f94658",
   "metadata": {},
   "outputs": [],
   "source": []
  }
 ],
 "metadata": {
  "kernelspec": {
   "display_name": "Python 3 (ipykernel)",
   "language": "python",
   "name": "python3"
  },
  "language_info": {
   "codemirror_mode": {
    "name": "ipython",
    "version": 3
   },
   "file_extension": ".py",
   "mimetype": "text/x-python",
   "name": "python",
   "nbconvert_exporter": "python",
   "pygments_lexer": "ipython3",
   "version": "3.12.10"
  }
 },
 "nbformat": 4,
 "nbformat_minor": 5
}
