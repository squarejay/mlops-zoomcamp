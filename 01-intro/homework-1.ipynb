{
 "cells": [
  {
   "cell_type": "code",
   "execution_count": 1,
   "id": "b2bd82d7",
   "metadata": {
    "ExecuteTime": {
     "end_time": "2025-05-18T19:53:59.394262Z",
     "start_time": "2025-05-18T19:53:59.300122Z"
    },
    "execution": {
     "iopub.execute_input": "2025-05-19T21:21:30.667039Z",
     "iopub.status.busy": "2025-05-19T21:21:30.666487Z",
     "iopub.status.idle": "2025-05-19T21:21:30.833932Z",
     "shell.execute_reply": "2025-05-19T21:21:30.833302Z",
     "shell.execute_reply.started": "2025-05-19T21:21:30.667014Z"
    },
    "jupyter": {
     "is_executing": true
    }
   },
   "outputs": [
    {
     "name": "stdout",
     "output_type": "stream",
     "text": [
      "Python 3.12.10\n"
     ]
    }
   ],
   "source": [
    "!python -V"
   ]
  },
  {
   "cell_type": "code",
   "execution_count": 2,
   "id": "41062d8a",
   "metadata": {
    "execution": {
     "iopub.execute_input": "2025-05-19T21:21:30.835162Z",
     "iopub.status.busy": "2025-05-19T21:21:30.834987Z",
     "iopub.status.idle": "2025-05-19T21:21:31.205579Z",
     "shell.execute_reply": "2025-05-19T21:21:31.205259Z",
     "shell.execute_reply.started": "2025-05-19T21:21:30.835135Z"
    }
   },
   "outputs": [],
   "source": [
    "import pandas as pd"
   ]
  },
  {
   "cell_type": "code",
   "execution_count": 3,
   "id": "c984c564",
   "metadata": {
    "execution": {
     "iopub.execute_input": "2025-05-19T21:21:31.206056Z",
     "iopub.status.busy": "2025-05-19T21:21:31.205944Z",
     "iopub.status.idle": "2025-05-19T21:21:31.208517Z",
     "shell.execute_reply": "2025-05-19T21:21:31.207918Z",
     "shell.execute_reply.started": "2025-05-19T21:21:31.206047Z"
    }
   },
   "outputs": [],
   "source": [
    "import pickle"
   ]
  },
  {
   "cell_type": "code",
   "execution_count": 4,
   "id": "4add538c",
   "metadata": {
    "execution": {
     "iopub.execute_input": "2025-05-19T21:21:31.209281Z",
     "iopub.status.busy": "2025-05-19T21:21:31.209160Z",
     "iopub.status.idle": "2025-05-19T21:21:32.048131Z",
     "shell.execute_reply": "2025-05-19T21:21:32.047868Z",
     "shell.execute_reply.started": "2025-05-19T21:21:31.209272Z"
    }
   },
   "outputs": [],
   "source": [
    "import seaborn as sns\n",
    "import matplotlib.pyplot as plt"
   ]
  },
  {
   "cell_type": "code",
   "execution_count": 5,
   "id": "8b135c2b",
   "metadata": {
    "execution": {
     "iopub.execute_input": "2025-05-19T21:21:32.048659Z",
     "iopub.status.busy": "2025-05-19T21:21:32.048537Z",
     "iopub.status.idle": "2025-05-19T21:21:32.266491Z",
     "shell.execute_reply": "2025-05-19T21:21:32.266227Z",
     "shell.execute_reply.started": "2025-05-19T21:21:32.048649Z"
    }
   },
   "outputs": [],
   "source": [
    "from sklearn.feature_extraction import DictVectorizer\n",
    "from sklearn.linear_model import LinearRegression\n",
    "from sklearn.linear_model import Lasso\n",
    "from sklearn.linear_model import Ridge\n",
    "\n",
    "from sklearn.metrics import root_mean_squared_error"
   ]
  },
  {
   "cell_type": "code",
   "execution_count": 10,
   "id": "ebacc389-b2a0-4355-934f-f69c1cd44731",
   "metadata": {
    "execution": {
     "iopub.execute_input": "2025-05-19T21:22:11.450954Z",
     "iopub.status.busy": "2025-05-19T21:22:11.449553Z",
     "iopub.status.idle": "2025-05-19T21:22:11.468049Z",
     "shell.execute_reply": "2025-05-19T21:22:11.467306Z",
     "shell.execute_reply.started": "2025-05-19T21:22:11.450903Z"
    }
   },
   "outputs": [],
   "source": [
    "import subprocess\n",
    "from pathlib import Path\n",
    "import ipywidgets as widgets"
   ]
  },
  {
   "cell_type": "code",
   "execution_count": 11,
   "id": "814ed6e9-9589-4ea1-8883-3094ee62d3b5",
   "metadata": {
    "execution": {
     "iopub.execute_input": "2025-05-19T21:22:11.786995Z",
     "iopub.status.busy": "2025-05-19T21:22:11.786320Z",
     "iopub.status.idle": "2025-05-19T21:22:11.794341Z",
     "shell.execute_reply": "2025-05-19T21:22:11.793727Z",
     "shell.execute_reply.started": "2025-05-19T21:22:11.786960Z"
    }
   },
   "outputs": [],
   "source": [
    "data_link_pattern = \"https://d37ci6vzurychx.cloudfront.net/trip-data/{}_tripdata_{}-{}.parquet\"\n",
    "data_dir = Path(\"./data\")\n",
    "data_dir.mkdir(parents=True, exist_ok=True)"
   ]
  },
  {
   "cell_type": "code",
   "execution_count": 12,
   "id": "8fe95669-1d21-4969-bcc3-171ccbb8c612",
   "metadata": {
    "execution": {
     "iopub.execute_input": "2025-05-19T21:22:12.191646Z",
     "iopub.status.busy": "2025-05-19T21:22:12.191026Z",
     "iopub.status.idle": "2025-05-19T21:22:14.236080Z",
     "shell.execute_reply": "2025-05-19T21:22:14.235285Z",
     "shell.execute_reply.started": "2025-05-19T21:22:12.191615Z"
    }
   },
   "outputs": [
    {
     "name": "stdout",
     "output_type": "stream",
     "text": [
      "data downloaded successfully\n"
     ]
    }
   ],
   "source": [
    "combinations = [\n",
    "    (\"green\", \"2023\", \"01\"),\n",
    "    (\"green\", \"2023\", \"02\"),\n",
    "    (\"yellow\", \"2023\", \"01\"),\n",
    "    (\"yellow\", \"2023\", \"02\"),\n",
    "]\n",
    "for combination in combinations:\n",
    "    subprocess.run(\n",
    "        [\n",
    "            \"wget\",\n",
    "            \"-q\",\n",
    "            \"-P\",\n",
    "            \"data\",\n",
    "            data_link_pattern.format(*combination),\n",
    "        ],\n",
    "        check=True\n",
    "    )\n",
    "print(\"data downloaded successfully\")"
   ]
  },
  {
   "cell_type": "code",
   "execution_count": 13,
   "id": "18b04d39-0f20-4521-a682-97b44840bcc8",
   "metadata": {
    "execution": {
     "iopub.execute_input": "2025-05-19T21:22:14.237974Z",
     "iopub.status.busy": "2025-05-19T21:22:14.237759Z",
     "iopub.status.idle": "2025-05-19T21:22:14.251143Z",
     "shell.execute_reply": "2025-05-19T21:22:14.250085Z",
     "shell.execute_reply.started": "2025-05-19T21:22:14.237941Z"
    }
   },
   "outputs": [
    {
     "data": {
      "application/vnd.jupyter.widget-view+json": {
       "model_id": "d9b5891656984b94a111532bdee050ca",
       "version_major": 2,
       "version_minor": 0
      },
      "text/plain": [
       "Dropdown(description=\"Dataset 'colour':\", options=('green', 'yellow'), value='green')"
      ]
     },
     "metadata": {},
     "output_type": "display_data"
    }
   ],
   "source": [
    "dataset_colour = widgets.Dropdown(\n",
    "    options=[\"green\", \"yellow\"],\n",
    "    value=\"green\",\n",
    "    description=\"Dataset 'colour':\"\n",
    ")\n",
    "display(dataset_colour)"
   ]
  },
  {
   "cell_type": "code",
   "execution_count": 19,
   "id": "0bb4b7c3-d9af-47a7-9e08-320a068cc294",
   "metadata": {
    "execution": {
     "iopub.execute_input": "2025-05-19T21:22:38.214613Z",
     "iopub.status.busy": "2025-05-19T21:22:38.214008Z",
     "iopub.status.idle": "2025-05-19T21:22:38.337516Z",
     "shell.execute_reply": "2025-05-19T21:22:38.337176Z",
     "shell.execute_reply.started": "2025-05-19T21:22:38.214571Z"
    }
   },
   "outputs": [
    {
     "name": "stdout",
     "output_type": "stream",
     "text": [
      "loading yellow data\n"
     ]
    }
   ],
   "source": [
    "print(f\"loading {dataset_colour.value} data\")\n",
    "df = pd.read_parquet(f'./data/{dataset_colour.value}_tripdata_2023-02.parquet')"
   ]
  },
  {
   "cell_type": "code",
   "execution_count": 44,
   "id": "f9e6479e",
   "metadata": {
    "execution": {
     "iopub.execute_input": "2025-05-19T21:30:24.902895Z",
     "iopub.status.busy": "2025-05-19T21:30:24.902056Z",
     "iopub.status.idle": "2025-05-19T21:30:24.910560Z",
     "shell.execute_reply": "2025-05-19T21:30:24.910097Z",
     "shell.execute_reply.started": "2025-05-19T21:30:24.902825Z"
    }
   },
   "outputs": [],
   "source": [
    "def read_dataframe(filename):\n",
    "    if filename.endswith('.csv'):\n",
    "        df = pd.read_csv(filename)\n",
    "\n",
    "        df.lpep_dropoff_datetime = pd.to_datetime(df.lpep_dropoff_datetime)\n",
    "        df.lpep_pickup_datetime = pd.to_datetime(df.lpep_pickup_datetime)\n",
    "    elif filename.endswith('.parquet'):\n",
    "        df = pd.read_parquet(filename)\n",
    "    print(f\"loaded {filename}\")\n",
    "    print(f\"no. of columns in the file: {len(df.columns)}\")\n",
    "\n",
    "    if dataset_colour.value == \"green\":\n",
    "        df['duration'] = df.lpep_dropoff_datetime - df.lpep_pickup_datetime\n",
    "    else:\n",
    "        df['duration'] = df.tpep_dropoff_datetime - df.tpep_pickup_datetime\n",
    "    df.duration = df.duration.apply(lambda td: td.total_seconds() / 60)\n",
    "\n",
    "    print(f\"duration stdev: {df.duration.std()}\")\n",
    "\n",
    "    original_dataset_length = df.shape[0]\n",
    "\n",
    "    df = df[(df.duration >= 1) & (df.duration <= 60)]\n",
    "    print(f\"pct of data not outliers: {df.shape[0] / original_dataset_length}\")\n",
    "\n",
    "    categorical = ['PULocationID', 'DOLocationID']\n",
    "    df[categorical] = df[categorical].astype(str)\n",
    "    \n",
    "    return df"
   ]
  },
  {
   "cell_type": "code",
   "execution_count": 45,
   "id": "8029eba0",
   "metadata": {
    "execution": {
     "iopub.execute_input": "2025-05-19T21:30:27.180851Z",
     "iopub.status.busy": "2025-05-19T21:30:27.180214Z",
     "iopub.status.idle": "2025-05-19T21:30:39.013591Z",
     "shell.execute_reply": "2025-05-19T21:30:39.013325Z",
     "shell.execute_reply.started": "2025-05-19T21:30:27.180803Z"
    }
   },
   "outputs": [
    {
     "name": "stdout",
     "output_type": "stream",
     "text": [
      "loaded ./data/yellow_tripdata_2023-01.parquet\n",
      "no. of columns in the file: 19\n",
      "duration stdev: 42.59435124195458\n",
      "pct of data not outliers: 0.9812202822125979\n",
      "loaded ./data/yellow_tripdata_2023-02.parquet\n",
      "no. of columns in the file: 19\n",
      "duration stdev: 42.84210176105113\n",
      "pct of data not outliers: 0.9800944077722545\n"
     ]
    }
   ],
   "source": [
    "df_train = read_dataframe(f'./data/{dataset_colour.value}_tripdata_2023-01.parquet')\n",
    "df_val = read_dataframe(f'./data/{dataset_colour.value}_tripdata_2023-02.parquet')"
   ]
  },
  {
   "cell_type": "code",
   "execution_count": 26,
   "id": "f6f2f0eb",
   "metadata": {
    "execution": {
     "iopub.execute_input": "2025-05-19T21:23:45.465869Z",
     "iopub.status.busy": "2025-05-19T21:23:45.465751Z",
     "iopub.status.idle": "2025-05-19T21:23:45.469878Z",
     "shell.execute_reply": "2025-05-19T21:23:45.469439Z",
     "shell.execute_reply.started": "2025-05-19T21:23:45.465858Z"
    }
   },
   "outputs": [
    {
     "data": {
      "text/plain": [
       "(3009173, 2855951)"
      ]
     },
     "execution_count": 26,
     "metadata": {},
     "output_type": "execute_result"
    }
   ],
   "source": [
    "len(df_train), len(df_val)"
   ]
  },
  {
   "cell_type": "code",
   "execution_count": 27,
   "id": "951d51ef",
   "metadata": {
    "execution": {
     "iopub.execute_input": "2025-05-19T21:24:14.764455Z",
     "iopub.status.busy": "2025-05-19T21:24:14.763720Z",
     "iopub.status.idle": "2025-05-19T21:24:15.306496Z",
     "shell.execute_reply": "2025-05-19T21:24:15.306232Z",
     "shell.execute_reply.started": "2025-05-19T21:24:14.764431Z"
    }
   },
   "outputs": [],
   "source": [
    "df_train['PU_DO'] = df_train['PULocationID'] + '_' + df_train['DOLocationID']\n",
    "df_val['PU_DO'] = df_val['PULocationID'] + '_' + df_val['DOLocationID']"
   ]
  },
  {
   "cell_type": "code",
   "execution_count": 46,
   "id": "c5cbfc25",
   "metadata": {
    "execution": {
     "iopub.execute_input": "2025-05-19T21:31:02.596333Z",
     "iopub.status.busy": "2025-05-19T21:31:02.595875Z",
     "iopub.status.idle": "2025-05-19T21:31:14.094630Z",
     "shell.execute_reply": "2025-05-19T21:31:14.094333Z",
     "shell.execute_reply.started": "2025-05-19T21:31:02.596307Z"
    }
   },
   "outputs": [
    {
     "name": "stdout",
     "output_type": "stream",
     "text": [
      "number of dimensions in the one-hot encoded sparse matrix: 2\n"
     ]
    }
   ],
   "source": [
    "# categorical = ['PU_DO'] #'PULocationID', 'DOLocationID']\n",
    "categorical = ['PULocationID', 'DOLocationID']\n",
    "numerical = ['trip_distance']\n",
    "\n",
    "dv = DictVectorizer()\n",
    "\n",
    "train_dicts = df_train[categorical + numerical].to_dict(orient='records')\n",
    "X_train = dv.fit_transform(train_dicts)\n",
    "print(f\"number of dimensions in the one-hot encoded sparse matrix: {X_train.ndim}\")\n",
    "\n",
    "val_dicts = df_val[categorical + numerical].to_dict(orient='records')\n",
    "X_val = dv.transform(val_dicts)"
   ]
  },
  {
   "cell_type": "code",
   "execution_count": 47,
   "id": "1e9fb68b",
   "metadata": {
    "execution": {
     "iopub.execute_input": "2025-05-19T21:31:14.095319Z",
     "iopub.status.busy": "2025-05-19T21:31:14.095228Z",
     "iopub.status.idle": "2025-05-19T21:31:14.098616Z",
     "shell.execute_reply": "2025-05-19T21:31:14.098331Z",
     "shell.execute_reply.started": "2025-05-19T21:31:14.095310Z"
    }
   },
   "outputs": [],
   "source": [
    "target = 'duration'\n",
    "y_train = df_train[target].values\n",
    "y_val = df_val[target].values"
   ]
  },
  {
   "cell_type": "code",
   "execution_count": 50,
   "id": "429e2394",
   "metadata": {
    "execution": {
     "iopub.execute_input": "2025-05-19T21:31:30.187156Z",
     "iopub.status.busy": "2025-05-19T21:31:30.186324Z",
     "iopub.status.idle": "2025-05-19T21:31:31.872581Z",
     "shell.execute_reply": "2025-05-19T21:31:31.872319Z",
     "shell.execute_reply.started": "2025-05-19T21:31:30.187103Z"
    }
   },
   "outputs": [
    {
     "data": {
      "text/html": [
       "<style>#sk-container-id-2 {\n",
       "  /* Definition of color scheme common for light and dark mode */\n",
       "  --sklearn-color-text: #000;\n",
       "  --sklearn-color-text-muted: #666;\n",
       "  --sklearn-color-line: gray;\n",
       "  /* Definition of color scheme for unfitted estimators */\n",
       "  --sklearn-color-unfitted-level-0: #fff5e6;\n",
       "  --sklearn-color-unfitted-level-1: #f6e4d2;\n",
       "  --sklearn-color-unfitted-level-2: #ffe0b3;\n",
       "  --sklearn-color-unfitted-level-3: chocolate;\n",
       "  /* Definition of color scheme for fitted estimators */\n",
       "  --sklearn-color-fitted-level-0: #f0f8ff;\n",
       "  --sklearn-color-fitted-level-1: #d4ebff;\n",
       "  --sklearn-color-fitted-level-2: #b3dbfd;\n",
       "  --sklearn-color-fitted-level-3: cornflowerblue;\n",
       "\n",
       "  /* Specific color for light theme */\n",
       "  --sklearn-color-text-on-default-background: var(--sg-text-color, var(--theme-code-foreground, var(--jp-content-font-color1, black)));\n",
       "  --sklearn-color-background: var(--sg-background-color, var(--theme-background, var(--jp-layout-color0, white)));\n",
       "  --sklearn-color-border-box: var(--sg-text-color, var(--theme-code-foreground, var(--jp-content-font-color1, black)));\n",
       "  --sklearn-color-icon: #696969;\n",
       "\n",
       "  @media (prefers-color-scheme: dark) {\n",
       "    /* Redefinition of color scheme for dark theme */\n",
       "    --sklearn-color-text-on-default-background: var(--sg-text-color, var(--theme-code-foreground, var(--jp-content-font-color1, white)));\n",
       "    --sklearn-color-background: var(--sg-background-color, var(--theme-background, var(--jp-layout-color0, #111)));\n",
       "    --sklearn-color-border-box: var(--sg-text-color, var(--theme-code-foreground, var(--jp-content-font-color1, white)));\n",
       "    --sklearn-color-icon: #878787;\n",
       "  }\n",
       "}\n",
       "\n",
       "#sk-container-id-2 {\n",
       "  color: var(--sklearn-color-text);\n",
       "}\n",
       "\n",
       "#sk-container-id-2 pre {\n",
       "  padding: 0;\n",
       "}\n",
       "\n",
       "#sk-container-id-2 input.sk-hidden--visually {\n",
       "  border: 0;\n",
       "  clip: rect(1px 1px 1px 1px);\n",
       "  clip: rect(1px, 1px, 1px, 1px);\n",
       "  height: 1px;\n",
       "  margin: -1px;\n",
       "  overflow: hidden;\n",
       "  padding: 0;\n",
       "  position: absolute;\n",
       "  width: 1px;\n",
       "}\n",
       "\n",
       "#sk-container-id-2 div.sk-dashed-wrapped {\n",
       "  border: 1px dashed var(--sklearn-color-line);\n",
       "  margin: 0 0.4em 0.5em 0.4em;\n",
       "  box-sizing: border-box;\n",
       "  padding-bottom: 0.4em;\n",
       "  background-color: var(--sklearn-color-background);\n",
       "}\n",
       "\n",
       "#sk-container-id-2 div.sk-container {\n",
       "  /* jupyter's `normalize.less` sets `[hidden] { display: none; }`\n",
       "     but bootstrap.min.css set `[hidden] { display: none !important; }`\n",
       "     so we also need the `!important` here to be able to override the\n",
       "     default hidden behavior on the sphinx rendered scikit-learn.org.\n",
       "     See: https://github.com/scikit-learn/scikit-learn/issues/21755 */\n",
       "  display: inline-block !important;\n",
       "  position: relative;\n",
       "}\n",
       "\n",
       "#sk-container-id-2 div.sk-text-repr-fallback {\n",
       "  display: none;\n",
       "}\n",
       "\n",
       "div.sk-parallel-item,\n",
       "div.sk-serial,\n",
       "div.sk-item {\n",
       "  /* draw centered vertical line to link estimators */\n",
       "  background-image: linear-gradient(var(--sklearn-color-text-on-default-background), var(--sklearn-color-text-on-default-background));\n",
       "  background-size: 2px 100%;\n",
       "  background-repeat: no-repeat;\n",
       "  background-position: center center;\n",
       "}\n",
       "\n",
       "/* Parallel-specific style estimator block */\n",
       "\n",
       "#sk-container-id-2 div.sk-parallel-item::after {\n",
       "  content: \"\";\n",
       "  width: 100%;\n",
       "  border-bottom: 2px solid var(--sklearn-color-text-on-default-background);\n",
       "  flex-grow: 1;\n",
       "}\n",
       "\n",
       "#sk-container-id-2 div.sk-parallel {\n",
       "  display: flex;\n",
       "  align-items: stretch;\n",
       "  justify-content: center;\n",
       "  background-color: var(--sklearn-color-background);\n",
       "  position: relative;\n",
       "}\n",
       "\n",
       "#sk-container-id-2 div.sk-parallel-item {\n",
       "  display: flex;\n",
       "  flex-direction: column;\n",
       "}\n",
       "\n",
       "#sk-container-id-2 div.sk-parallel-item:first-child::after {\n",
       "  align-self: flex-end;\n",
       "  width: 50%;\n",
       "}\n",
       "\n",
       "#sk-container-id-2 div.sk-parallel-item:last-child::after {\n",
       "  align-self: flex-start;\n",
       "  width: 50%;\n",
       "}\n",
       "\n",
       "#sk-container-id-2 div.sk-parallel-item:only-child::after {\n",
       "  width: 0;\n",
       "}\n",
       "\n",
       "/* Serial-specific style estimator block */\n",
       "\n",
       "#sk-container-id-2 div.sk-serial {\n",
       "  display: flex;\n",
       "  flex-direction: column;\n",
       "  align-items: center;\n",
       "  background-color: var(--sklearn-color-background);\n",
       "  padding-right: 1em;\n",
       "  padding-left: 1em;\n",
       "}\n",
       "\n",
       "\n",
       "/* Toggleable style: style used for estimator/Pipeline/ColumnTransformer box that is\n",
       "clickable and can be expanded/collapsed.\n",
       "- Pipeline and ColumnTransformer use this feature and define the default style\n",
       "- Estimators will overwrite some part of the style using the `sk-estimator` class\n",
       "*/\n",
       "\n",
       "/* Pipeline and ColumnTransformer style (default) */\n",
       "\n",
       "#sk-container-id-2 div.sk-toggleable {\n",
       "  /* Default theme specific background. It is overwritten whether we have a\n",
       "  specific estimator or a Pipeline/ColumnTransformer */\n",
       "  background-color: var(--sklearn-color-background);\n",
       "}\n",
       "\n",
       "/* Toggleable label */\n",
       "#sk-container-id-2 label.sk-toggleable__label {\n",
       "  cursor: pointer;\n",
       "  display: flex;\n",
       "  width: 100%;\n",
       "  margin-bottom: 0;\n",
       "  padding: 0.5em;\n",
       "  box-sizing: border-box;\n",
       "  text-align: center;\n",
       "  align-items: start;\n",
       "  justify-content: space-between;\n",
       "  gap: 0.5em;\n",
       "}\n",
       "\n",
       "#sk-container-id-2 label.sk-toggleable__label .caption {\n",
       "  font-size: 0.6rem;\n",
       "  font-weight: lighter;\n",
       "  color: var(--sklearn-color-text-muted);\n",
       "}\n",
       "\n",
       "#sk-container-id-2 label.sk-toggleable__label-arrow:before {\n",
       "  /* Arrow on the left of the label */\n",
       "  content: \"▸\";\n",
       "  float: left;\n",
       "  margin-right: 0.25em;\n",
       "  color: var(--sklearn-color-icon);\n",
       "}\n",
       "\n",
       "#sk-container-id-2 label.sk-toggleable__label-arrow:hover:before {\n",
       "  color: var(--sklearn-color-text);\n",
       "}\n",
       "\n",
       "/* Toggleable content - dropdown */\n",
       "\n",
       "#sk-container-id-2 div.sk-toggleable__content {\n",
       "  max-height: 0;\n",
       "  max-width: 0;\n",
       "  overflow: hidden;\n",
       "  text-align: left;\n",
       "  /* unfitted */\n",
       "  background-color: var(--sklearn-color-unfitted-level-0);\n",
       "}\n",
       "\n",
       "#sk-container-id-2 div.sk-toggleable__content.fitted {\n",
       "  /* fitted */\n",
       "  background-color: var(--sklearn-color-fitted-level-0);\n",
       "}\n",
       "\n",
       "#sk-container-id-2 div.sk-toggleable__content pre {\n",
       "  margin: 0.2em;\n",
       "  border-radius: 0.25em;\n",
       "  color: var(--sklearn-color-text);\n",
       "  /* unfitted */\n",
       "  background-color: var(--sklearn-color-unfitted-level-0);\n",
       "}\n",
       "\n",
       "#sk-container-id-2 div.sk-toggleable__content.fitted pre {\n",
       "  /* unfitted */\n",
       "  background-color: var(--sklearn-color-fitted-level-0);\n",
       "}\n",
       "\n",
       "#sk-container-id-2 input.sk-toggleable__control:checked~div.sk-toggleable__content {\n",
       "  /* Expand drop-down */\n",
       "  max-height: 200px;\n",
       "  max-width: 100%;\n",
       "  overflow: auto;\n",
       "}\n",
       "\n",
       "#sk-container-id-2 input.sk-toggleable__control:checked~label.sk-toggleable__label-arrow:before {\n",
       "  content: \"▾\";\n",
       "}\n",
       "\n",
       "/* Pipeline/ColumnTransformer-specific style */\n",
       "\n",
       "#sk-container-id-2 div.sk-label input.sk-toggleable__control:checked~label.sk-toggleable__label {\n",
       "  color: var(--sklearn-color-text);\n",
       "  background-color: var(--sklearn-color-unfitted-level-2);\n",
       "}\n",
       "\n",
       "#sk-container-id-2 div.sk-label.fitted input.sk-toggleable__control:checked~label.sk-toggleable__label {\n",
       "  background-color: var(--sklearn-color-fitted-level-2);\n",
       "}\n",
       "\n",
       "/* Estimator-specific style */\n",
       "\n",
       "/* Colorize estimator box */\n",
       "#sk-container-id-2 div.sk-estimator input.sk-toggleable__control:checked~label.sk-toggleable__label {\n",
       "  /* unfitted */\n",
       "  background-color: var(--sklearn-color-unfitted-level-2);\n",
       "}\n",
       "\n",
       "#sk-container-id-2 div.sk-estimator.fitted input.sk-toggleable__control:checked~label.sk-toggleable__label {\n",
       "  /* fitted */\n",
       "  background-color: var(--sklearn-color-fitted-level-2);\n",
       "}\n",
       "\n",
       "#sk-container-id-2 div.sk-label label.sk-toggleable__label,\n",
       "#sk-container-id-2 div.sk-label label {\n",
       "  /* The background is the default theme color */\n",
       "  color: var(--sklearn-color-text-on-default-background);\n",
       "}\n",
       "\n",
       "/* On hover, darken the color of the background */\n",
       "#sk-container-id-2 div.sk-label:hover label.sk-toggleable__label {\n",
       "  color: var(--sklearn-color-text);\n",
       "  background-color: var(--sklearn-color-unfitted-level-2);\n",
       "}\n",
       "\n",
       "/* Label box, darken color on hover, fitted */\n",
       "#sk-container-id-2 div.sk-label.fitted:hover label.sk-toggleable__label.fitted {\n",
       "  color: var(--sklearn-color-text);\n",
       "  background-color: var(--sklearn-color-fitted-level-2);\n",
       "}\n",
       "\n",
       "/* Estimator label */\n",
       "\n",
       "#sk-container-id-2 div.sk-label label {\n",
       "  font-family: monospace;\n",
       "  font-weight: bold;\n",
       "  display: inline-block;\n",
       "  line-height: 1.2em;\n",
       "}\n",
       "\n",
       "#sk-container-id-2 div.sk-label-container {\n",
       "  text-align: center;\n",
       "}\n",
       "\n",
       "/* Estimator-specific */\n",
       "#sk-container-id-2 div.sk-estimator {\n",
       "  font-family: monospace;\n",
       "  border: 1px dotted var(--sklearn-color-border-box);\n",
       "  border-radius: 0.25em;\n",
       "  box-sizing: border-box;\n",
       "  margin-bottom: 0.5em;\n",
       "  /* unfitted */\n",
       "  background-color: var(--sklearn-color-unfitted-level-0);\n",
       "}\n",
       "\n",
       "#sk-container-id-2 div.sk-estimator.fitted {\n",
       "  /* fitted */\n",
       "  background-color: var(--sklearn-color-fitted-level-0);\n",
       "}\n",
       "\n",
       "/* on hover */\n",
       "#sk-container-id-2 div.sk-estimator:hover {\n",
       "  /* unfitted */\n",
       "  background-color: var(--sklearn-color-unfitted-level-2);\n",
       "}\n",
       "\n",
       "#sk-container-id-2 div.sk-estimator.fitted:hover {\n",
       "  /* fitted */\n",
       "  background-color: var(--sklearn-color-fitted-level-2);\n",
       "}\n",
       "\n",
       "/* Specification for estimator info (e.g. \"i\" and \"?\") */\n",
       "\n",
       "/* Common style for \"i\" and \"?\" */\n",
       "\n",
       ".sk-estimator-doc-link,\n",
       "a:link.sk-estimator-doc-link,\n",
       "a:visited.sk-estimator-doc-link {\n",
       "  float: right;\n",
       "  font-size: smaller;\n",
       "  line-height: 1em;\n",
       "  font-family: monospace;\n",
       "  background-color: var(--sklearn-color-background);\n",
       "  border-radius: 1em;\n",
       "  height: 1em;\n",
       "  width: 1em;\n",
       "  text-decoration: none !important;\n",
       "  margin-left: 0.5em;\n",
       "  text-align: center;\n",
       "  /* unfitted */\n",
       "  border: var(--sklearn-color-unfitted-level-1) 1pt solid;\n",
       "  color: var(--sklearn-color-unfitted-level-1);\n",
       "}\n",
       "\n",
       ".sk-estimator-doc-link.fitted,\n",
       "a:link.sk-estimator-doc-link.fitted,\n",
       "a:visited.sk-estimator-doc-link.fitted {\n",
       "  /* fitted */\n",
       "  border: var(--sklearn-color-fitted-level-1) 1pt solid;\n",
       "  color: var(--sklearn-color-fitted-level-1);\n",
       "}\n",
       "\n",
       "/* On hover */\n",
       "div.sk-estimator:hover .sk-estimator-doc-link:hover,\n",
       ".sk-estimator-doc-link:hover,\n",
       "div.sk-label-container:hover .sk-estimator-doc-link:hover,\n",
       ".sk-estimator-doc-link:hover {\n",
       "  /* unfitted */\n",
       "  background-color: var(--sklearn-color-unfitted-level-3);\n",
       "  color: var(--sklearn-color-background);\n",
       "  text-decoration: none;\n",
       "}\n",
       "\n",
       "div.sk-estimator.fitted:hover .sk-estimator-doc-link.fitted:hover,\n",
       ".sk-estimator-doc-link.fitted:hover,\n",
       "div.sk-label-container:hover .sk-estimator-doc-link.fitted:hover,\n",
       ".sk-estimator-doc-link.fitted:hover {\n",
       "  /* fitted */\n",
       "  background-color: var(--sklearn-color-fitted-level-3);\n",
       "  color: var(--sklearn-color-background);\n",
       "  text-decoration: none;\n",
       "}\n",
       "\n",
       "/* Span, style for the box shown on hovering the info icon */\n",
       ".sk-estimator-doc-link span {\n",
       "  display: none;\n",
       "  z-index: 9999;\n",
       "  position: relative;\n",
       "  font-weight: normal;\n",
       "  right: .2ex;\n",
       "  padding: .5ex;\n",
       "  margin: .5ex;\n",
       "  width: min-content;\n",
       "  min-width: 20ex;\n",
       "  max-width: 50ex;\n",
       "  color: var(--sklearn-color-text);\n",
       "  box-shadow: 2pt 2pt 4pt #999;\n",
       "  /* unfitted */\n",
       "  background: var(--sklearn-color-unfitted-level-0);\n",
       "  border: .5pt solid var(--sklearn-color-unfitted-level-3);\n",
       "}\n",
       "\n",
       ".sk-estimator-doc-link.fitted span {\n",
       "  /* fitted */\n",
       "  background: var(--sklearn-color-fitted-level-0);\n",
       "  border: var(--sklearn-color-fitted-level-3);\n",
       "}\n",
       "\n",
       ".sk-estimator-doc-link:hover span {\n",
       "  display: block;\n",
       "}\n",
       "\n",
       "/* \"?\"-specific style due to the `<a>` HTML tag */\n",
       "\n",
       "#sk-container-id-2 a.estimator_doc_link {\n",
       "  float: right;\n",
       "  font-size: 1rem;\n",
       "  line-height: 1em;\n",
       "  font-family: monospace;\n",
       "  background-color: var(--sklearn-color-background);\n",
       "  border-radius: 1rem;\n",
       "  height: 1rem;\n",
       "  width: 1rem;\n",
       "  text-decoration: none;\n",
       "  /* unfitted */\n",
       "  color: var(--sklearn-color-unfitted-level-1);\n",
       "  border: var(--sklearn-color-unfitted-level-1) 1pt solid;\n",
       "}\n",
       "\n",
       "#sk-container-id-2 a.estimator_doc_link.fitted {\n",
       "  /* fitted */\n",
       "  border: var(--sklearn-color-fitted-level-1) 1pt solid;\n",
       "  color: var(--sklearn-color-fitted-level-1);\n",
       "}\n",
       "\n",
       "/* On hover */\n",
       "#sk-container-id-2 a.estimator_doc_link:hover {\n",
       "  /* unfitted */\n",
       "  background-color: var(--sklearn-color-unfitted-level-3);\n",
       "  color: var(--sklearn-color-background);\n",
       "  text-decoration: none;\n",
       "}\n",
       "\n",
       "#sk-container-id-2 a.estimator_doc_link.fitted:hover {\n",
       "  /* fitted */\n",
       "  background-color: var(--sklearn-color-fitted-level-3);\n",
       "}\n",
       "</style><div id=\"sk-container-id-2\" class=\"sk-top-container\"><div class=\"sk-text-repr-fallback\"><pre>LinearRegression()</pre><b>In a Jupyter environment, please rerun this cell to show the HTML representation or trust the notebook. <br />On GitHub, the HTML representation is unable to render, please try loading this page with nbviewer.org.</b></div><div class=\"sk-container\" hidden><div class=\"sk-item\"><div class=\"sk-estimator fitted sk-toggleable\"><input class=\"sk-toggleable__control sk-hidden--visually\" id=\"sk-estimator-id-2\" type=\"checkbox\" checked><label for=\"sk-estimator-id-2\" class=\"sk-toggleable__label fitted sk-toggleable__label-arrow\"><div><div>LinearRegression</div></div><div><a class=\"sk-estimator-doc-link fitted\" rel=\"noreferrer\" target=\"_blank\" href=\"https://scikit-learn.org/1.6/modules/generated/sklearn.linear_model.LinearRegression.html\">?<span>Documentation for LinearRegression</span></a><span class=\"sk-estimator-doc-link fitted\">i<span>Fitted</span></span></div></label><div class=\"sk-toggleable__content fitted\"><pre>LinearRegression()</pre></div> </div></div></div></div>"
      ],
      "text/plain": [
       "LinearRegression()"
      ]
     },
     "execution_count": 50,
     "metadata": {},
     "output_type": "execute_result"
    }
   ],
   "source": [
    "lr = LinearRegression()\n",
    "lr.fit(X_train, y_train)"
   ]
  },
  {
   "cell_type": "code",
   "execution_count": 51,
   "id": "30acc656-3b8f-4b40-9bdf-5c5c3a21d366",
   "metadata": {
    "execution": {
     "iopub.execute_input": "2025-05-19T21:31:32.557313Z",
     "iopub.status.busy": "2025-05-19T21:31:32.556581Z",
     "iopub.status.idle": "2025-05-19T21:31:32.595223Z",
     "shell.execute_reply": "2025-05-19T21:31:32.594865Z",
     "shell.execute_reply.started": "2025-05-19T21:31:32.557272Z"
    }
   },
   "outputs": [
    {
     "name": "stdout",
     "output_type": "stream",
     "text": [
      "the RMSE on the train dataset is: 7.658406582175197\n"
     ]
    }
   ],
   "source": [
    "y_pred = lr.predict(X_train)\n",
    "\n",
    "print(f\"the RMSE on the train dataset is: {root_mean_squared_error(y_train, y_pred)}\")"
   ]
  },
  {
   "cell_type": "code",
   "execution_count": 52,
   "id": "c69761e6-af1c-483e-b4e0-a535e55d742d",
   "metadata": {
    "execution": {
     "iopub.execute_input": "2025-05-19T21:31:33.449911Z",
     "iopub.status.busy": "2025-05-19T21:31:33.448469Z",
     "iopub.status.idle": "2025-05-19T21:31:33.497941Z",
     "shell.execute_reply": "2025-05-19T21:31:33.497563Z",
     "shell.execute_reply.started": "2025-05-19T21:31:33.449858Z"
    }
   },
   "outputs": [
    {
     "name": "stdout",
     "output_type": "stream",
     "text": [
      "the RMSE on the validation dataset is: 7.820096870991671\n"
     ]
    }
   ],
   "source": [
    "y_pred = lr.predict(X_val)\n",
    "\n",
    "print(f\"the RMSE on the validation dataset is: {root_mean_squared_error(y_val, y_pred)}\")"
   ]
  },
  {
   "cell_type": "code",
   "execution_count": 53,
   "id": "22bf6f8b",
   "metadata": {
    "execution": {
     "iopub.execute_input": "2025-05-19T21:31:35.858976Z",
     "iopub.status.busy": "2025-05-19T21:31:35.858361Z",
     "iopub.status.idle": "2025-05-19T21:31:35.865992Z",
     "shell.execute_reply": "2025-05-19T21:31:35.865380Z",
     "shell.execute_reply.started": "2025-05-19T21:31:35.858948Z"
    }
   },
   "outputs": [],
   "source": [
    "model_dir = Path(\"models\")\n",
    "model_dir.mkdir(exist_ok=True)\n",
    "with open('models/lin_reg.bin', 'wb') as f_out:\n",
    "    pickle.dump((dv, lr), f_out)"
   ]
  },
  {
   "cell_type": "code",
   "execution_count": null,
   "id": "a4999b94",
   "metadata": {
    "execution": {
     "execution_failed": "2025-05-19T21:21:24.778Z",
     "iopub.execute_input": "2025-05-19T21:18:31.716491Z",
     "iopub.status.busy": "2025-05-19T21:18:31.715048Z"
    }
   },
   "outputs": [],
   "source": [
    "lr = Lasso(0.01)\n",
    "lr.fit(X_train, y_train)\n",
    "\n",
    "y_pred = lr.predict(X_val)\n",
    "\n",
    "root_mean_squared_error(y_val, y_pred)"
   ]
  }
 ],
 "metadata": {
  "kernelspec": {
   "display_name": "Python 3 (ipykernel)",
   "language": "python",
   "name": "python3"
  },
  "language_info": {
   "codemirror_mode": {
    "name": "ipython",
    "version": 3
   },
   "file_extension": ".py",
   "mimetype": "text/x-python",
   "name": "python",
   "nbconvert_exporter": "python",
   "pygments_lexer": "ipython3",
   "version": "3.12.10"
  }
 },
 "nbformat": 4,
 "nbformat_minor": 5
}
